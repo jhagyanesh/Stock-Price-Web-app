{
 "cells": [
  {
   "cell_type": "code",
   "execution_count": 2,
   "metadata": {},
   "outputs": [
    {
     "name": "stdout",
     "output_type": "stream",
     "text": [
      "Collecting yfinance\n",
      "  Downloading yfinance-0.1.54.tar.gz (19 kB)\n",
      "Collecting pandas>=0.24\n",
      "  Downloading pandas-1.0.4-cp37-cp37m-win_amd64.whl (8.7 MB)\n",
      "Requirement already satisfied: numpy>=1.15 in c:\\users\\gyane\\anaconda3\\lib\\site-packages (from yfinance) (1.17.2)\n",
      "Requirement already satisfied: requests>=2.20 in c:\\users\\gyane\\anaconda3\\lib\\site-packages (from yfinance) (2.22.0)\n",
      "Collecting multitasking>=0.0.7\n",
      "  Downloading multitasking-0.0.9.tar.gz (8.1 kB)\n",
      "Requirement already satisfied: pytz>=2017.2 in c:\\users\\gyane\\anaconda3\\lib\\site-packages (from pandas>=0.24->yfinance) (2019.3)\n",
      "Requirement already satisfied: python-dateutil>=2.6.1 in c:\\users\\gyane\\anaconda3\\lib\\site-packages (from pandas>=0.24->yfinance) (2.8.0)\n",
      "Requirement already satisfied: chardet<3.1.0,>=3.0.2 in c:\\users\\gyane\\anaconda3\\lib\\site-packages (from requests>=2.20->yfinance) (3.0.4)\n",
      "Requirement already satisfied: certifi>=2017.4.17 in c:\\users\\gyane\\anaconda3\\lib\\site-packages (from requests>=2.20->yfinance) (2018.11.29)\n",
      "Requirement already satisfied: urllib3!=1.25.0,!=1.25.1,<1.26,>=1.21.1 in c:\\users\\gyane\\anaconda3\\lib\\site-packages (from requests>=2.20->yfinance) (1.24.1)\n",
      "Requirement already satisfied: idna<2.9,>=2.5 in c:\\users\\gyane\\anaconda3\\lib\\site-packages (from requests>=2.20->yfinance) (2.8)\n",
      "Requirement already satisfied: six>=1.5 in c:\\users\\gyane\\anaconda3\\lib\\site-packages (from python-dateutil>=2.6.1->pandas>=0.24->yfinance) (1.12.0)\n",
      "Building wheels for collected packages: yfinance, multitasking\n",
      "  Building wheel for yfinance (setup.py): started\n",
      "  Building wheel for yfinance (setup.py): finished with status 'done'\n",
      "  Created wheel for yfinance: filename=yfinance-0.1.54-py2.py3-none-any.whl size=22414 sha256=ab6fbf2d27d86410555fb93afb569c8a1387c36af1d3379febaa4e8d133f8bbe\n",
      "  Stored in directory: c:\\users\\gyane\\appdata\\local\\pip\\cache\\wheels\\28\\79\\3c\\08a301b673366fe664fe2853e136eb2acc1bb752045c11c6a1\n",
      "  Building wheel for multitasking (setup.py): started\n",
      "  Building wheel for multitasking (setup.py): finished with status 'done'\n",
      "  Created wheel for multitasking: filename=multitasking-0.0.9-py3-none-any.whl size=8372 sha256=d4fdf95bf2fab611851eaef5e9d797c347d98e7134ff653eb68b27a5b2424b05\n",
      "  Stored in directory: c:\\users\\gyane\\appdata\\local\\pip\\cache\\wheels\\ae\\25\\47\\4d68431a7ec1b6c4b5233365934b74c1d4e665bf5f968d363a\n",
      "Successfully built yfinance multitasking\n",
      "Installing collected packages: pandas, multitasking, yfinance\n",
      "  Attempting uninstall: pandas\n",
      "    Found existing installation: pandas 0.23.4\n",
      "    Uninstalling pandas-0.23.4:\n",
      "      Successfully uninstalled pandas-0.23.4\n",
      "Successfully installed multitasking-0.0.9 pandas-1.0.4 yfinance-0.1.54\n"
     ]
    },
    {
     "name": "stderr",
     "output_type": "stream",
     "text": [
      "WARNING: You are using pip version 20.0.2; however, version 20.1.1 is available.\n",
      "You should consider upgrading via the 'c:\\users\\gyane\\anaconda3\\python.exe -m pip install --upgrade pip' command.\n"
     ]
    }
   ],
   "source": [
    "!pip install yfinance"
   ]
  },
  {
   "cell_type": "code",
   "execution_count": 3,
   "metadata": {},
   "outputs": [
    {
     "name": "stdout",
     "output_type": "stream",
     "text": [
      "Collecting streamlit\n",
      "  Downloading streamlit-0.61.0-py2.py3-none-any.whl (7.1 MB)\n",
      "Requirement already satisfied: astor in c:\\users\\gyane\\appdata\\roaming\\python\\python37\\site-packages (from streamlit) (0.8.0)\n",
      "Requirement already satisfied: numpy in c:\\users\\gyane\\anaconda3\\lib\\site-packages (from streamlit) (1.17.2)\n",
      "Requirement already satisfied: tzlocal in c:\\users\\gyane\\anaconda3\\lib\\site-packages (from streamlit) (2.0.0)\n",
      "Collecting enum-compat\n",
      "  Downloading enum_compat-0.0.3-py3-none-any.whl (1.3 kB)\n",
      "Requirement already satisfied: tornado<6.0,>=5.0 in c:\\users\\gyane\\anaconda3\\lib\\site-packages (from streamlit) (5.1.1)\n",
      "Requirement already satisfied: requests in c:\\users\\gyane\\anaconda3\\lib\\site-packages (from streamlit) (2.22.0)\n",
      "Requirement already satisfied: packaging in c:\\users\\gyane\\appdata\\roaming\\python\\python37\\site-packages (from streamlit) (19.2)\n",
      "Collecting validators\n",
      "  Downloading validators-0.15.0.tar.gz (27 kB)\n",
      "Requirement already satisfied: blinker in c:\\users\\gyane\\anaconda3\\lib\\site-packages (from streamlit) (1.4)\n",
      "Collecting watchdog\n",
      "  Downloading watchdog-0.10.2.tar.gz (95 kB)\n",
      "Requirement already satisfied: pandas>=0.21.0 in c:\\users\\gyane\\anaconda3\\lib\\site-packages (from streamlit) (1.0.4)\n",
      "Requirement already satisfied: click>=7.0 in c:\\users\\gyane\\anaconda3\\lib\\site-packages (from streamlit) (7.0)\n",
      "Requirement already satisfied: protobuf>=3.6.0 in c:\\users\\gyane\\appdata\\roaming\\python\\python37\\site-packages (from streamlit) (3.10.0)\n",
      "Collecting cachetools>=4.0\n",
      "  Downloading cachetools-4.1.0-py3-none-any.whl (10 kB)\n",
      "Collecting pillow>=6.2.0\n",
      "  Downloading Pillow-7.1.2-cp37-cp37m-win_amd64.whl (2.0 MB)\n",
      "Collecting pydeck>=0.1.dev5\n",
      "  Downloading pydeck-0.4.0b2-py2.py3-none-any.whl (4.4 MB)\n",
      "Requirement already satisfied: boto3 in c:\\users\\gyane\\anaconda3\\lib\\site-packages (from streamlit) (1.9.234)\n",
      "Collecting altair>=3.2.0\n",
      "  Downloading altair-4.1.0-py3-none-any.whl (727 kB)\n",
      "Collecting toml\n",
      "  Downloading toml-0.10.1-py2.py3-none-any.whl (19 kB)\n",
      "Requirement already satisfied: python-dateutil in c:\\users\\gyane\\anaconda3\\lib\\site-packages (from streamlit) (2.8.0)\n",
      "Collecting botocore>=1.13.44\n",
      "  Downloading botocore-1.17.2-py2.py3-none-any.whl (6.3 MB)\n",
      "Collecting base58\n",
      "  Downloading base58-2.0.1-py3-none-any.whl (4.3 kB)\n",
      "Requirement already satisfied: pytz in c:\\users\\gyane\\anaconda3\\lib\\site-packages (from tzlocal->streamlit) (2019.3)\n",
      "Requirement already satisfied: idna<2.9,>=2.5 in c:\\users\\gyane\\anaconda3\\lib\\site-packages (from requests->streamlit) (2.8)\n",
      "Requirement already satisfied: urllib3!=1.25.0,!=1.25.1,<1.26,>=1.21.1 in c:\\users\\gyane\\anaconda3\\lib\\site-packages (from requests->streamlit) (1.24.1)\n",
      "Requirement already satisfied: certifi>=2017.4.17 in c:\\users\\gyane\\anaconda3\\lib\\site-packages (from requests->streamlit) (2018.11.29)\n",
      "Requirement already satisfied: chardet<3.1.0,>=3.0.2 in c:\\users\\gyane\\anaconda3\\lib\\site-packages (from requests->streamlit) (3.0.4)\n",
      "Requirement already satisfied: six in c:\\users\\gyane\\anaconda3\\lib\\site-packages (from packaging->streamlit) (1.12.0)\n",
      "Requirement already satisfied: pyparsing>=2.0.2 in c:\\users\\gyane\\anaconda3\\lib\\site-packages (from packaging->streamlit) (2.3.0)\n",
      "Requirement already satisfied: decorator>=3.4.0 in c:\\users\\gyane\\anaconda3\\lib\\site-packages (from validators->streamlit) (4.3.0)\n",
      "Collecting pathtools>=0.1.1\n",
      "  Downloading pathtools-0.1.2.tar.gz (11 kB)\n",
      "Requirement already satisfied: setuptools in c:\\users\\gyane\\anaconda3\\lib\\site-packages (from protobuf>=3.6.0->streamlit) (41.4.0)\n",
      "Collecting jinja2>=2.10.1\n",
      "  Downloading Jinja2-2.11.2-py2.py3-none-any.whl (125 kB)\n",
      "Collecting ipykernel>=5.1.2; python_version >= \"3.4\"\n",
      "  Downloading ipykernel-5.3.0-py3-none-any.whl (119 kB)\n",
      "Requirement already satisfied: ipywidgets>=7.0.0 in c:\\users\\gyane\\anaconda3\\lib\\site-packages (from pydeck>=0.1.dev5->streamlit) (7.4.2)\n",
      "Requirement already satisfied: traitlets>=4.3.2 in c:\\users\\gyane\\anaconda3\\lib\\site-packages (from pydeck>=0.1.dev5->streamlit) (4.3.2)\n",
      "Requirement already satisfied: jmespath<1.0.0,>=0.7.1 in c:\\users\\gyane\\anaconda3\\lib\\site-packages (from boto3->streamlit) (0.9.4)\n",
      "Requirement already satisfied: s3transfer<0.3.0,>=0.2.0 in c:\\users\\gyane\\anaconda3\\lib\\site-packages (from boto3->streamlit) (0.2.1)\n",
      "Requirement already satisfied: toolz in c:\\users\\gyane\\anaconda3\\lib\\site-packages (from altair>=3.2.0->streamlit) (0.9.0)\n",
      "Requirement already satisfied: entrypoints in c:\\users\\gyane\\anaconda3\\lib\\site-packages (from altair>=3.2.0->streamlit) (0.2.3)\n",
      "Requirement already satisfied: jsonschema in c:\\users\\gyane\\anaconda3\\lib\\site-packages (from altair>=3.2.0->streamlit) (2.6.0)\n",
      "Requirement already satisfied: docutils<0.16,>=0.10 in c:\\users\\gyane\\anaconda3\\lib\\site-packages (from botocore>=1.13.44->streamlit) (0.14)\n",
      "Requirement already satisfied: MarkupSafe>=0.23 in c:\\users\\gyane\\anaconda3\\lib\\site-packages (from jinja2>=2.10.1->pydeck>=0.1.dev5->streamlit) (1.1.0)\n",
      "Requirement already satisfied: ipython>=5.0.0 in c:\\users\\gyane\\anaconda3\\lib\\site-packages (from ipykernel>=5.1.2; python_version >= \"3.4\"->pydeck>=0.1.dev5->streamlit) (7.2.0)\n",
      "Requirement already satisfied: jupyter-client in c:\\users\\gyane\\anaconda3\\lib\\site-packages (from ipykernel>=5.1.2; python_version >= \"3.4\"->pydeck>=0.1.dev5->streamlit) (5.2.4)\n",
      "Requirement already satisfied: widgetsnbextension~=3.4.0 in c:\\users\\gyane\\anaconda3\\lib\\site-packages (from ipywidgets>=7.0.0->pydeck>=0.1.dev5->streamlit) (3.4.2)\n",
      "Requirement already satisfied: nbformat>=4.2.0 in c:\\users\\gyane\\anaconda3\\lib\\site-packages (from ipywidgets>=7.0.0->pydeck>=0.1.dev5->streamlit) (4.4.0)\n",
      "Requirement already satisfied: ipython-genutils in c:\\users\\gyane\\anaconda3\\lib\\site-packages (from traitlets>=4.3.2->pydeck>=0.1.dev5->streamlit) (0.2.0)\n",
      "Requirement already satisfied: pygments in c:\\users\\gyane\\anaconda3\\lib\\site-packages (from ipython>=5.0.0->ipykernel>=5.1.2; python_version >= \"3.4\"->pydeck>=0.1.dev5->streamlit) (2.3.1)\n",
      "Requirement already satisfied: prompt-toolkit<2.1.0,>=2.0.0 in c:\\users\\gyane\\anaconda3\\lib\\site-packages (from ipython>=5.0.0->ipykernel>=5.1.2; python_version >= \"3.4\"->pydeck>=0.1.dev5->streamlit) (2.0.7)\n",
      "Requirement already satisfied: pickleshare in c:\\users\\gyane\\anaconda3\\lib\\site-packages (from ipython>=5.0.0->ipykernel>=5.1.2; python_version >= \"3.4\"->pydeck>=0.1.dev5->streamlit) (0.7.5)\n",
      "Requirement already satisfied: backcall in c:\\users\\gyane\\anaconda3\\lib\\site-packages (from ipython>=5.0.0->ipykernel>=5.1.2; python_version >= \"3.4\"->pydeck>=0.1.dev5->streamlit) (0.1.0)\n",
      "Requirement already satisfied: jedi>=0.10 in c:\\users\\gyane\\anaconda3\\lib\\site-packages (from ipython>=5.0.0->ipykernel>=5.1.2; python_version >= \"3.4\"->pydeck>=0.1.dev5->streamlit) (0.13.2)\n",
      "Requirement already satisfied: colorama; sys_platform == \"win32\" in c:\\users\\gyane\\anaconda3\\lib\\site-packages (from ipython>=5.0.0->ipykernel>=5.1.2; python_version >= \"3.4\"->pydeck>=0.1.dev5->streamlit) (0.4.1)\n",
      "Requirement already satisfied: jupyter-core in c:\\users\\gyane\\anaconda3\\lib\\site-packages (from jupyter-client->ipykernel>=5.1.2; python_version >= \"3.4\"->pydeck>=0.1.dev5->streamlit) (4.4.0)\n",
      "Requirement already satisfied: pyzmq>=13 in c:\\users\\gyane\\anaconda3\\lib\\site-packages (from jupyter-client->ipykernel>=5.1.2; python_version >= \"3.4\"->pydeck>=0.1.dev5->streamlit) (17.1.2)\n",
      "Requirement already satisfied: notebook>=4.4.1 in c:\\users\\gyane\\anaconda3\\lib\\site-packages (from widgetsnbextension~=3.4.0->ipywidgets>=7.0.0->pydeck>=0.1.dev5->streamlit) (5.7.4)\n",
      "Requirement already satisfied: wcwidth in c:\\users\\gyane\\anaconda3\\lib\\site-packages (from prompt-toolkit<2.1.0,>=2.0.0->ipython>=5.0.0->ipykernel>=5.1.2; python_version >= \"3.4\"->pydeck>=0.1.dev5->streamlit) (0.1.7)\n",
      "Requirement already satisfied: parso>=0.3.0 in c:\\users\\gyane\\anaconda3\\lib\\site-packages (from jedi>=0.10->ipython>=5.0.0->ipykernel>=5.1.2; python_version >= \"3.4\"->pydeck>=0.1.dev5->streamlit) (0.3.1)\n",
      "Requirement already satisfied: terminado>=0.8.1 in c:\\users\\gyane\\anaconda3\\lib\\site-packages (from notebook>=4.4.1->widgetsnbextension~=3.4.0->ipywidgets>=7.0.0->pydeck>=0.1.dev5->streamlit) (0.8.1)\n",
      "Requirement already satisfied: Send2Trash in c:\\users\\gyane\\anaconda3\\lib\\site-packages (from notebook>=4.4.1->widgetsnbextension~=3.4.0->ipywidgets>=7.0.0->pydeck>=0.1.dev5->streamlit) (1.5.0)\n",
      "Requirement already satisfied: prometheus-client in c:\\users\\gyane\\anaconda3\\lib\\site-packages (from notebook>=4.4.1->widgetsnbextension~=3.4.0->ipywidgets>=7.0.0->pydeck>=0.1.dev5->streamlit) (0.5.0)\n",
      "Requirement already satisfied: nbconvert in c:\\users\\gyane\\anaconda3\\lib\\site-packages (from notebook>=4.4.1->widgetsnbextension~=3.4.0->ipywidgets>=7.0.0->pydeck>=0.1.dev5->streamlit) (5.4.0)\n",
      "Requirement already satisfied: mistune>=0.8.1 in c:\\users\\gyane\\anaconda3\\lib\\site-packages (from nbconvert->notebook>=4.4.1->widgetsnbextension~=3.4.0->ipywidgets>=7.0.0->pydeck>=0.1.dev5->streamlit) (0.8.4)\n",
      "Requirement already satisfied: bleach in c:\\users\\gyane\\anaconda3\\lib\\site-packages (from nbconvert->notebook>=4.4.1->widgetsnbextension~=3.4.0->ipywidgets>=7.0.0->pydeck>=0.1.dev5->streamlit) (3.0.2)\n",
      "Requirement already satisfied: pandocfilters>=1.4.1 in c:\\users\\gyane\\anaconda3\\lib\\site-packages (from nbconvert->notebook>=4.4.1->widgetsnbextension~=3.4.0->ipywidgets>=7.0.0->pydeck>=0.1.dev5->streamlit) (1.4.2)\n",
      "Requirement already satisfied: testpath in c:\\users\\gyane\\anaconda3\\lib\\site-packages (from nbconvert->notebook>=4.4.1->widgetsnbextension~=3.4.0->ipywidgets>=7.0.0->pydeck>=0.1.dev5->streamlit) (0.4.2)\n",
      "Requirement already satisfied: defusedxml in c:\\users\\gyane\\anaconda3\\lib\\site-packages (from nbconvert->notebook>=4.4.1->widgetsnbextension~=3.4.0->ipywidgets>=7.0.0->pydeck>=0.1.dev5->streamlit) (0.5.0)\n",
      "Requirement already satisfied: webencodings in c:\\users\\gyane\\anaconda3\\lib\\site-packages (from bleach->nbconvert->notebook>=4.4.1->widgetsnbextension~=3.4.0->ipywidgets>=7.0.0->pydeck>=0.1.dev5->streamlit) (0.5.1)\n",
      "Building wheels for collected packages: validators, watchdog, pathtools\n",
      "  Building wheel for validators (setup.py): started\n",
      "  Building wheel for validators (setup.py): finished with status 'done'\n",
      "  Created wheel for validators: filename=validators-0.15.0-py3-none-any.whl size=18376 sha256=399ce46b5a0971fec7d7aee1b6754bdcebba56bcd14f281cdac26b1a9d7c03b6\n",
      "  Stored in directory: c:\\users\\gyane\\appdata\\local\\pip\\cache\\wheels\\ff\\a1\\08\\0650ea8df7821ecd87760d16213b53dd23403927a69a388268\n",
      "  Building wheel for watchdog (setup.py): started\n",
      "  Building wheel for watchdog (setup.py): finished with status 'done'\n",
      "  Created wheel for watchdog: filename=watchdog-0.10.2-py3-none-any.whl size=73607 sha256=216fcdaaab474bc1e7b1788b8d664a479c8c264f73156585af9b1b82ecbb155f\n",
      "  Stored in directory: c:\\users\\gyane\\appdata\\local\\pip\\cache\\wheels\\36\\93\\24\\29e375ee74e0f178889e6906cb73e693e9f06a5f589dcee6b9\n",
      "  Building wheel for pathtools (setup.py): started\n",
      "  Building wheel for pathtools (setup.py): finished with status 'done'\n",
      "  Created wheel for pathtools: filename=pathtools-0.1.2-py3-none-any.whl size=8790 sha256=1dff72651f0532f6ba7da3ad124c3a78eaf783590c0b17e92e9a0afc35dbdc27\n",
      "  Stored in directory: c:\\users\\gyane\\appdata\\local\\pip\\cache\\wheels\\3e\\31\\09\\fa59cef12cdcfecc627b3d24273699f390e71828921b2cbba2\n",
      "Successfully built validators watchdog pathtools\n",
      "Installing collected packages: enum-compat, validators, pathtools, watchdog, cachetools, pillow, jinja2, ipykernel, pydeck, altair, toml, botocore, base58, streamlit\n",
      "  Attempting uninstall: cachetools\n",
      "    Found existing installation: cachetools 3.1.1\n",
      "    Uninstalling cachetools-3.1.1:\n",
      "      Successfully uninstalled cachetools-3.1.1\n",
      "  Attempting uninstall: pillow\n",
      "    Found existing installation: Pillow 5.3.0\n",
      "    Uninstalling Pillow-5.3.0:\n",
      "      Successfully uninstalled Pillow-5.3.0\n",
      "  Attempting uninstall: jinja2\n",
      "    Found existing installation: Jinja2 2.10\n",
      "    Uninstalling Jinja2-2.10:\n",
      "      Successfully uninstalled Jinja2-2.10\n",
      "  Attempting uninstall: ipykernel\n",
      "    Found existing installation: ipykernel 5.1.0\n",
      "    Uninstalling ipykernel-5.1.0:\n",
      "      Successfully uninstalled ipykernel-5.1.0\n",
      "  Attempting uninstall: botocore\n",
      "    Found existing installation: botocore 1.12.234\n",
      "    Uninstalling botocore-1.12.234:\n",
      "      Successfully uninstalled botocore-1.12.234\n",
      "Successfully installed altair-4.1.0 base58-2.0.1 botocore-1.17.2 cachetools-4.1.0 enum-compat-0.0.3 ipykernel-5.3.0 jinja2-2.11.2 pathtools-0.1.2 pillow-7.1.2 pydeck-0.4.0b2 streamlit-0.61.0 toml-0.10.1 validators-0.15.0 watchdog-0.10.2\n"
     ]
    },
    {
     "name": "stderr",
     "output_type": "stream",
     "text": [
      "ERROR: boto3 1.9.234 has requirement botocore<1.13.0,>=1.12.234, but you'll have botocore 1.17.2 which is incompatible.\n",
      "WARNING: You are using pip version 20.0.2; however, version 20.1.1 is available.\n",
      "You should consider upgrading via the 'c:\\users\\gyane\\anaconda3\\python.exe -m pip install --upgrade pip' command.\n"
     ]
    }
   ],
   "source": [
    "!pip install streamlit"
   ]
  },
  {
   "cell_type": "code",
   "execution_count": 1,
   "metadata": {},
   "outputs": [],
   "source": [
    "import yfinance as yf\n",
    "import streamlit as st"
   ]
  },
  {
   "cell_type": "markdown",
   "metadata": {},
   "source": [
    "#### streamlit run myapp.py"
   ]
  },
  {
   "cell_type": "code",
   "execution_count": 2,
   "metadata": {},
   "outputs": [
    {
     "data": {
      "text/plain": [
       "<streamlit.DeltaGenerator.DeltaGenerator at 0x2486aa31fd0>"
      ]
     },
     "execution_count": 2,
     "metadata": {},
     "output_type": "execute_result"
    }
   ],
   "source": [
    "#https://aroussi.com/post/python-yahoo-finance\n",
    "#https://github.com/ranaroussi/yfinance\n",
    "\n",
    "st.write(\"\"\"\n",
    "# Simple Stock Price App\n",
    "Shown are the stock **closing price** and ***volume*** of Google!\n",
    "\"\"\")\n",
    "# https://towardsdatascience.com/how-to-get-stock-data-using-python-c0de1df17e75\n",
    "#define the ticker symbol\n",
    "tickerSymbol = 'GOOGL'\n",
    "#get data on this ticker\n",
    "tickerData = yf.Ticker(tickerSymbol)\n",
    "#get the historical prices for this ticker\n",
    "tickerDf = tickerData.history(period='1d', start='2010-5-31', end='2020-5-31')\n",
    "# Open\tHigh\tLow\tClose\tVolume\tDividends\tStock Splits\n",
    "\n",
    "st.write(\"\"\"\n",
    "## Closing Price\n",
    "\"\"\")\n",
    "st.line_chart(tickerDf.Close)\n",
    "st.write(\"\"\"\n",
    "## Volume\n",
    "\"\"\")\n",
    "st.line_chart(tickerDf.Volume)"
   ]
  },
  {
   "cell_type": "code",
   "execution_count": null,
   "metadata": {},
   "outputs": [],
   "source": []
  },
  {
   "cell_type": "code",
   "execution_count": null,
   "metadata": {},
   "outputs": [],
   "source": []
  }
 ],
 "metadata": {
  "kernelspec": {
   "display_name": "Python 3",
   "language": "python",
   "name": "python3"
  },
  "language_info": {
   "codemirror_mode": {
    "name": "ipython",
    "version": 3
   },
   "file_extension": ".py",
   "mimetype": "text/x-python",
   "name": "python",
   "nbconvert_exporter": "python",
   "pygments_lexer": "ipython3",
   "version": "3.7.1"
  }
 },
 "nbformat": 4,
 "nbformat_minor": 2
}
